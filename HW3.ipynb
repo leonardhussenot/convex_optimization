{
 "cells": [
  {
   "cell_type": "markdown",
   "metadata": {},
   "source": [
    "# <center>Convex Optimization - Homework 3\n",
    "### <center> Léonard Hussenot"
   ]
  },
  {
   "cell_type": "code",
   "execution_count": 13,
   "metadata": {
    "collapsed": false
   },
   "outputs": [],
   "source": [
    "%matplotlib inline\n",
    "import numpy as np\n",
    "import matplotlib.pyplot as plt\n",
    "import warnings\n",
    "import pandas as pd\n",
    "warnings.filterwarnings('ignore')"
   ]
  },
  {
   "cell_type": "markdown",
   "metadata": {},
   "source": [
    "## 1) Interior Points Method"
   ]
  },
  {
   "cell_type": "markdown",
   "metadata": {},
   "source": [
    "Defining $\\phi_t$, its gradiant and hessian"
   ]
  },
  {
   "cell_type": "code",
   "execution_count": 14,
   "metadata": {
    "collapsed": false
   },
   "outputs": [],
   "source": [
    "def phi(x,t,Q,p,A,b):\n",
    "    mat_temp = b - np.dot(A,x)\n",
    "    if np.min(mat_temp) > 0:\n",
    "        res= t * (1/2 * np.dot(x, np.dot(Q,x)) + np.dot(p,x)) - np.sum(np.log(mat_temp))\n",
    "        return res\n",
    "    else:\n",
    "        return np.infty"
   ]
  },
  {
   "cell_type": "code",
   "execution_count": 15,
   "metadata": {
    "collapsed": false
   },
   "outputs": [],
   "source": [
    "def grad(x,t,Q,p,A,b):\n",
    "    mat = b-np.dot(A, x)\n",
    "    \n",
    "    res = t*(np.dot(Q,x) + p) + np.dot(A.T,1/mat)\n",
    "    return res\n"
   ]
  },
  {
   "cell_type": "code",
   "execution_count": 16,
   "metadata": {
    "collapsed": false
   },
   "outputs": [],
   "source": [
    "def hess(x,t,Q,p,A,b):\n",
    "    mat = b-np.dot(A, x)\n",
    "     \n",
    "    res = t*Q + np.dot(\n",
    "                    A.T,\n",
    "                    np.dot(np.diag(1/mat**2),A)\n",
    "                   )\n",
    "    \n",
    "    return res"
   ]
  },
  {
   "cell_type": "markdown",
   "metadata": {},
   "source": [
    "## 2) Newton Method"
   ]
  },
  {
   "cell_type": "code",
   "execution_count": 17,
   "metadata": {
    "collapsed": false
   },
   "outputs": [],
   "source": [
    "def dampedNewtonStep(x,f,g,h):\n",
    "    grd = g(x)\n",
    "    hss = h(x)\n",
    "    inv = np.linalg.inv(hss)\n",
    "\n",
    "    dx = np.dot(inv, grd)\n",
    "    \n",
    "    lamb_2 = np.dot(grd, dx)\n",
    "\n",
    "    x_new = x - 1/(1+np.sqrt(lamb_2)) * dx\n",
    "    return x_new, 0.5*(lamb_2)"
   ]
  },
  {
   "cell_type": "code",
   "execution_count": 34,
   "metadata": {
    "collapsed": false
   },
   "outputs": [],
   "source": [
    "# tol should be inferior to (3-np.sqrt(5))*0.5 ~ 0.38...\n",
    "\n",
    "def dampedNewton(x0,f,g,h,tol):\n",
    "    gaps = []\n",
    "    x = x0\n",
    "    xhist = [x0]\n",
    "    keep_going = True\n",
    "    while keep_going:\n",
    "        x, gap = dampedNewtonStep(x,f,g,h)\n",
    "        xhist.append(np.copy(x))\n",
    "        keep_going = gap > tol\n",
    "        gaps.append(gap)\n",
    "    return x, xhist"
   ]
  },
  {
   "cell_type": "code",
   "execution_count": 19,
   "metadata": {
    "collapsed": false
   },
   "outputs": [],
   "source": [
    "beta = 0.7\n",
    "alpha = 0.48\n",
    "\n",
    "def newtonLS(x0,f,g,h,tol):\n",
    "    x = x0\n",
    "    gaps = []\n",
    "    xhist = [x0]\n",
    "    keep_going = True\n",
    "    while keep_going:\n",
    "\n",
    "        grd = g(x)\n",
    "        hss = h(x)\n",
    "\n",
    "        inv = np.linalg.inv(hss)\n",
    "        dx = -np.dot(inv, grd)\n",
    "\n",
    "        tlocal = 1\n",
    "        lamb_2 = -np.dot(grd, dx)\n",
    "        \n",
    "        ok = True\n",
    "        while ok :\n",
    "            try:\n",
    "                ok =  f(x + tlocal*dx) > f(x) - alpha*tlocal*(lamb_2)\n",
    "            except:\n",
    "                ok = True\n",
    "            tlocal *= beta\n",
    "\n",
    "        x += tlocal*dx\n",
    "\n",
    "        xhist.append(np.copy(x))\n",
    "        gaps.append(0.5*lamb_2)\n",
    "        \n",
    "        keep_going = 0.5*lamb_2 > tol\n",
    "        \n",
    "    return x, xhist\n"
   ]
  },
  {
   "cell_type": "markdown",
   "metadata": {},
   "source": [
    "## 3) Support Vector Machine Problem"
   ]
  },
  {
   "cell_type": "code",
   "execution_count": 20,
   "metadata": {
    "collapsed": true
   },
   "outputs": [],
   "source": [
    "def transform_svm_primal(tau,X,y):\n",
    "    n, d = X.shape\n",
    "    \n",
    "    # What's going to play the role of the x we optimize is the concatenated vector of w and z\n",
    "    Q = np.diag([1  if i<d else 0 for i in range(d+n)])\n",
    "    p = np.array([0 if i<d else 1/(tau*n) for i in range(d+n)])\n",
    "    \n",
    "    # A1 describe the first inegality\n",
    "    A1 = - np.concatenate((X*(y.reshape(n,1)),np.eye(n)),1)\n",
    "    \n",
    "    # A2 describe the second inegality (z>0)\n",
    "    A2 = - np.concatenate((np.zeros_like(X),np.eye(n)),1)\n",
    "    A = np.concatenate((A1, A2), 0)\n",
    "    \n",
    "    b = - np.concatenate((np.ones(n),np.zeros(n)))\n",
    "    return Q, p, A, b\n",
    "\n"
   ]
  },
  {
   "cell_type": "code",
   "execution_count": 21,
   "metadata": {
    "collapsed": false
   },
   "outputs": [],
   "source": [
    "def transform_svm_dual(tau,X,y):\n",
    "    n, d = X.shape\n",
    "    D = X*(y.reshape((len(y),1)))\n",
    "    Q = np.dot(D,D.T)\n",
    "    p = -np.ones(n)\n",
    "    \n",
    "    A = np.eye(n)\n",
    "    b = 1/(tau*n)*np.ones(n)\n",
    "    return Q, p, A, b"
   ]
  },
  {
   "cell_type": "code",
   "execution_count": 50,
   "metadata": {
    "collapsed": false
   },
   "outputs": [],
   "source": [
    "# Also returns the duality gap over the iterations\n",
    "\n",
    "def barr_method(Q,Q_d,p,A,b,x_0,mu,tol, method=\"DNS\"):\n",
    "    # Assert x0 feasible\n",
    "    n = len(b)\n",
    "    assert(np.sum(np.dot(A,x_0)<=b) == n)\n",
    "    x = np.copy(x_0)\n",
    "    xhist_total = []\n",
    "    t = 1\n",
    "    gaps = []\n",
    "    while n/t > tol:\n",
    "        f = lambda xx: phi(xx,t,Q,p,A,b)\n",
    "        g = lambda xx: grad (xx,t,Q,p,A,b)\n",
    "        h = lambda xx: hess (xx,t,Q,p,A,b)\n",
    "        \n",
    "        if method == \"DNS\":\n",
    "            x, xhist = dampedNewton(x,f,g,h,tol)\n",
    "        else:\n",
    "            x, xhist = newtonLS(x,f,g,h,tol)\n",
    "        \n",
    "        # Log Barrier -> we can thus derive the corresponding approximation for the Lagrange multiplier\n",
    "        lambda_star_tot = -1/t * 1/(np.dot(A,x)-b)\n",
    "        lambda_star = lambda_star_tot[:n/2]\n",
    "        #In fact, after recomputing by hand the dual, I realized the lambda we talk about is only the first \n",
    "        # half of the all lambda (which has dimension 2*n as there is 2*n constraints in the primal)\n",
    "\n",
    "        dual = np.sum(lambda_star)-1/2*np.dot(\n",
    "            np.dot(lambda_star,Q_d), lambda_star)\n",
    "        primal = 1/2*np.dot(np.dot(x,Q),x) + np.dot(p,x)\n",
    "        \n",
    "        gap = primal - dual\n",
    "        for k in range(len(xhist)):\n",
    "            gaps.append(gap)\n",
    "        xhist_total += xhist\n",
    "        t *= mu\n",
    "    return x, xhist_total, gaps"
   ]
  },
  {
   "cell_type": "markdown",
   "metadata": {},
   "source": [
    "## Testing on Iris Dataset"
   ]
  },
  {
   "cell_type": "code",
   "execution_count": 42,
   "metadata": {
    "collapsed": false
   },
   "outputs": [],
   "source": [
    "# Don't forget to modify the relative path if needed!\n",
    "\n",
    "data = pd.read_csv(\"data/iris.data\", header=None)\n",
    "data = data[(data[4]=='Iris-versicolor') | (data[4]=='Iris-virginica')]\n",
    "data[4][data[4]=='Iris-versicolor'] = 1\n",
    "data[4][data[4]=='Iris-virginica'] = -1\n",
    "data = data.values\n",
    "\n",
    "np.random.shuffle(data)\n"
   ]
  },
  {
   "cell_type": "code",
   "execution_count": 45,
   "metadata": {
    "collapsed": false
   },
   "outputs": [],
   "source": [
    "def test_on_iris_dataset(data, mu=20, tau = 0.001, method='DNS'):\n",
    "    \n",
    "    #Separating Train set and Test set\n",
    "    sep = int(len(data)/5)\n",
    "    data_test = data[:sep]\n",
    "    data_train = data[sep:]\n",
    "\n",
    "    y = np.array(data_train[:,4],dtype='float')\n",
    "    X = np.array(data_train[:,:4],dtype='float')\n",
    "    X = X - np.mean(X,0)\n",
    "\n",
    "    tol = 0.001\n",
    "\n",
    "\n",
    "    w0 = np.zeros_like(X[0,:])\n",
    "    z0 = 2 * np.ones_like(y)\n",
    "    #stricly feasible x_0 ;  x is the concatenation of w and z  (and has a shape n+d)\n",
    "    x_0 = np.concatenate((w0,z0))\n",
    "\n",
    "    #compute the primal\n",
    "    Q, p, A, b = transform_svm_primal(tau,X,y)\n",
    "    \n",
    "    #compute the primal\n",
    "    Q_d, p_d, A_d, b_d = transform_svm_dual(tau,X,y)\n",
    "\n",
    "    # Solve the primal\n",
    "    x_sol, xhist, _ = barr_method(Q,Q_d,p,A,b,x_0,mu,tol, method=method)\n",
    "\n",
    "    w = x_sol[:4]\n",
    "    z = x_sol[4:]\n",
    "\n",
    "    #test on Test set\n",
    "    y_test = np.array(data_test[:,4],dtype='float')\n",
    "    X_test = np.array(data_test[:,:4],dtype='float')\n",
    "    X_test = X_test - np.mean(X_test,0)\n",
    "\n",
    "    y_pred = np.sign(np.dot(X_test,w))\n",
    "    print(\"tau = {}  => Test-Error = {} %\".format(\n",
    "                                            tau,\n",
    "                                            np.round(\n",
    "                                                        100*(\n",
    "                                                            1 - np.sum(y_pred==y_test)/len(y_pred)\n",
    "                                                            )\n",
    "                                            ))\n",
    "     )"
   ]
  },
  {
   "cell_type": "code",
   "execution_count": 49,
   "metadata": {
    "collapsed": false
   },
   "outputs": [
    {
     "name": "stdout",
     "output_type": "stream",
     "text": [
      "----------------------------------------------\n",
      "------- Learning on 80% of the dataset -------\n",
      "---------------- mu = 20 ---------------------\n",
      "\n",
      "- with Damped Newton Step\n",
      "tau = 1  => Test-Error = 5.0 %\n",
      "tau = 0.5  => Test-Error = 5.0 %\n",
      "tau = 0.2  => Test-Error = 5.0 %\n",
      "tau = 0.1  => Test-Error = 10.0 %\n",
      "tau = 0.001  => Test-Error = 5.0 %\n",
      "tau = 0.0001  => Test-Error = 15.0 %\n",
      "----------------------------------------------\n",
      "\n",
      "- with Backtracking Line Search\n",
      "tau = 1  => Test-Error = 5.0 %\n",
      "tau = 0.5  => Test-Error = 5.0 %\n",
      "tau = 0.2  => Test-Error = 5.0 %\n",
      "tau = 0.1  => Test-Error = 10.0 %\n",
      "tau = 0.001  => Test-Error = 5.0 %\n",
      "tau = 0.0001  => Test-Error = 15.0 %\n",
      "----------------------------------------------\n",
      "----------------------------------------------\n"
     ]
    }
   ],
   "source": [
    "#testing\n",
    "print(\"----------------------------------------------\")\n",
    "print(\"------- Learning on 80% of the dataset -------\")\n",
    "print(\"---------------- mu = 20 ---------------------\")\n",
    "print()\n",
    "print(\"- with Damped Newton Step\")\n",
    "for tau in [1,0.5,0.2,0.1,0.001,0.0001]:\n",
    "    test_on_iris_dataset(data, tau=tau, method=\"DNS\")\n",
    "print(\"----------------------------------------------\")\n",
    "print()\n",
    "print(\"- with Backtracking Line Search\")\n",
    "for tau in [1,0.5,0.2,0.1,0.001,0.0001]:\n",
    "    test_on_iris_dataset(data, tau=tau, method=\"BLS\")\n",
    "print(\"----------------------------------------------\")\n",
    "print(\"----------------------------------------------\")"
   ]
  },
  {
   "cell_type": "markdown",
   "metadata": {},
   "source": [
    "A too small $\\tau$ leads to an overfitting on the data and thus a greater test error.\n",
    "With a too high $\\tau$, we have don't fit correctly the data"
   ]
  },
  {
   "cell_type": "markdown",
   "metadata": {},
   "source": [
    "## Plotting the duality gap for the two methods and differents values of $\\mu$"
   ]
  },
  {
   "cell_type": "code",
   "execution_count": 26,
   "metadata": {
    "collapsed": false
   },
   "outputs": [],
   "source": [
    "gapmu = []\n",
    "for method in [\"DNS\", \"BLS\"]:\n",
    "    for mu in [2,15,50,100]:\n",
    "        y = np.array(data[:,4],dtype='float')\n",
    "        X = np.array(data[:,:4],dtype='float')\n",
    "        X = X - np.mean(X,0)\n",
    "\n",
    "        tau = 0.002 #regularization parameter\n",
    "        tol = 0.01\n",
    "\n",
    "        w0 = np.zeros_like(X[0,:])\n",
    "        z0 = 2 * np.ones_like(y)\n",
    "        #stricly feasible x_0 ;  x is the concatenation of w and z  (and has a shape n+d)\n",
    "        x_0_p = np.concatenate((w0,z0))\n",
    "\n",
    "        #For the dual : stricly feasible x_0 ;  x is the lambda vector (and has a shape n)\n",
    "        x_0_d = np.ones(len(y))/(2*tau*len(y))\n",
    "\n",
    "        #compute the primal\n",
    "        Q_p, p_p, A_p, b_p = transform_svm_primal(tau,X,y)\n",
    "\n",
    "        #compute the dual\n",
    "        Q_d, p_d, A_d, b_d = transform_svm_dual(tau,X,y)\n",
    "\n",
    "        # Solve them with history of the x's\n",
    "        x_p, xhist_p, gaps = barr_method(Q_p, Q_d, p_p, A_p, b_p, x_0_p, mu, tol, method=method)\n",
    "        gapmu.append(gaps)"
   ]
  },
  {
   "cell_type": "code",
   "execution_count": 33,
   "metadata": {
    "collapsed": false
   },
   "outputs": [
    {
     "data": {
      "image/png": "[encoded data removed]",
      "text/plain": [
       "<matplotlib.figure.Figure at 0x11294b940>"
      ]
     },
     "metadata": {},
     "output_type": "display_data"
    }
   ],
   "source": [
    "plt.figure(figsize=(16,8))\n",
    "colors = ['red','green','blue','purple']\n",
    "labels = [\"mu=2\",\"mu=15\",\"mu=50\",\"mu=100\"]\n",
    "plt.subplot(1,2,1)\n",
    "for i in range(4):\n",
    "    plt.semilogy(range(len(gapmu[i])),gapmu[i], color=colors[i],label=labels[i])\n",
    "plt.xlabel('number of iteration')\n",
    "plt.ylabel('Duality Gap')\n",
    "plt.title('Duality gap over iteration for Damped Newton step')\n",
    "plt.legend()\n",
    "\n",
    "plt.subplot(1,2,2)\n",
    "for i in range(4,8):\n",
    "    plt.semilogy(range(len(gapmu[i])),gapmu[i], color=colors[i-4], label=labels[i-4])\n",
    "plt.xlabel('number of iteration')\n",
    "plt.ylabel('Duality Gap')\n",
    "plt.title('Duality gap over iteration for Backtracking Line Search',fontsize=12)\n",
    "plt.legend()\n",
    "\n",
    "plt.show()"
   ]
  },
  {
   "cell_type": "markdown",
   "metadata": {
    "collapsed": true
   },
   "source": [
    "By increasing $\\mu$, fewer calls to the inner loop are made, mais the inner loop has more iterations to do.\n",
    "Algorithm seems to converge in much fewer interations with Backtracking Line Search, (60 agains 150 with $\\mu=15$)"
   ]
  },
  {
   "cell_type": "code",
   "execution_count": null,
   "metadata": {
    "collapsed": true
   },
   "outputs": [],
   "source": []
  }
 ],
 "metadata": {
  "anaconda-cloud": {},
  "kernelspec": {
   "display_name": "Python [Root]",
   "language": "python",
   "name": "Python [Root]"
  },
  "language_info": {
   "codemirror_mode": {
    "name": "ipython",
    "version": 3
   },
   "file_extension": ".py",
   "mimetype": "text/x-python",
   "name": "python",
   "nbconvert_exporter": "python",
   "pygments_lexer": "ipython3",
   "version": "3.5.2"
  }
 },
 "nbformat": 4,
 "nbformat_minor": 0
}
